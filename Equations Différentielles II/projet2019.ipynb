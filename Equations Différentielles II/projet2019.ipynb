{
 "cells": [
  {
   "cell_type": "code",
   "execution_count": 54,
   "metadata": {},
   "outputs": [],
   "source": [
    "from mpl_toolkits.mplot3d import Axes3D\n",
    "from numpy import *\n",
    "import matplotlib; \n",
    "from matplotlib.pyplot import *\n",
    "#import seaborn as sns\n",
    "#sns.set()\n",
    "%matplotlib notebook "
   ]
  },
  {
   "cell_type": "markdown",
   "metadata": {},
   "source": [
    "Euler Scheme with variable step\n",
    "------------"
   ]
  },
  {
   "cell_type": "code",
   "execution_count": 42,
   "metadata": {},
   "outputs": [],
   "source": [
    "def solve_ivp_euler_explicit_variable_step(f, t0, x0, t_f, dtmin = 1e-16, dtmax = 0.1, atol = 1e-3):\n",
    "    dt = dtmax/10; # initial integration step\n",
    "    ts, xs = [t0], [x0]  # storage variables\n",
    "    t = t0\n",
    "    ti = 0  # internal time keeping track of time since latest storage point : must remain below dtmax\n",
    "    x = x0\n",
    "    while ts[-1] < t_f:\n",
    "        while ti < dtmax:\n",
    "            t_next, ti_next, x_next = t + dt, ti + dt, x + dt * f(x)\n",
    "            x_back = x_next - dt * f(x_next)\n",
    "            ratio_abs_error = atol / (linalg.norm(x_back-x)/2)\n",
    "            dt = 0.9 * dt * sqrt(ratio_abs_error)\n",
    "            if dt < dtmin:\n",
    "                raise ValueError(\"Time step below minimum\")\n",
    "            elif dt > dtmax/2:\n",
    "                dt = dtmax/2\n",
    "            t, ti, x = t_next, ti_next, x_next\n",
    "        dt2DT = dtmax - ti # time left to dtmax\n",
    "        t_next, ti_next, x_next = t + dt2DT, 0, x + dt2DT * f(x)\n",
    "        ts.append(t_next); xs.append(x_next)\n",
    "        t, ti, x = t_next, ti_next, x_next\n",
    "    return (array(ts), array(xs).T)\n"
   ]
  },
  {
   "cell_type": "markdown",
   "metadata": {
    "scrolled": false
   },
   "source": [
    "Pour l'adaptation du pas : on sait que l’erreur commise par le schéma d’Euler\n",
    "$$\n",
    "x^{j+1} = x^j + \\Delta t_j f(t_j,x^j)\n",
    "$$\n",
    "\n",
    "à chaque itération est donné par (développement de Taylor)\n",
    "$$\n",
    "e^{j+1} = \\frac{\\Delta t_j^2}{2} x''(t_j) + O(\\Delta t_j^3)\n",
    "$$\n",
    "\n",
    "i.e. par le calcul (1) page 20,\n",
    "$$\n",
    "e^{j+1} = \\frac{\\Delta t_j^2}{2}\\Big( \\partial_t f(t_j,x(t_j)) + \\partial_x f(t_j,x(t_j)) f(t_j,x(t_j)) \\Big)+ O(\\Delta t_j^3)\n",
    "$$\n",
    "\n",
    "On conclut 2 choses :\n",
    "\n",
    "1) D’après la correction de la question 1 de l’exo « Consistance de schéma » en haut de la page 21,\n",
    "$$\n",
    "f(t_{j+1},x^{j+1}) = f\\Big(t_{j+1},x^j+\\Delta t f(t_j,x^j) \\Big) =  f(t_j,x^j) + \\Delta t \\Big( \\partial_t f(t_j,x^j) + \\partial_x f(t_j,x^j) f(t_j,x^j) \\Big) + \\mathrm{O}(\\Delta t^2).\n",
    "$$\n",
    "Donc on a bien\n",
    "$$\n",
    "e^{j+1} = \\frac{\\Delta t}{2}\\Big(f(t_{j+1},x^{j+1})- f(t_j,x^j) \\Big)+ O(\\Delta t^3)\n",
    "$$\n",
    "On peut donc estimer en ligne $|e_{j+1}|$ par $x_{back} = x^{j+1} - \\Delta t f(t_{j+1},x^{j+1})$. Dans le code, j’ai écrit ça un peut différemment en observant que\n",
    "$$\n",
    "\\frac{\\Delta t}{2}\\Big(f(t_{j+1},x^{j+1})- f(t_j,x^j) \\Big) = \\frac{1}{2} (x^j - x_{back})\n",
    "$$\n",
    "où xback est l’estimée en temps rétrograde à partir de xj+1 , ie.\n",
    "$$\n",
    "x_{back} = x^{j+1} - \\Delta t f(t_{j+1},x^{j+1})\n",
    "$$\n",
    "Donc en gros, on fait Euler en forward puis en backward et on regarde la différence avec le point initial xj .\n",
    "\n",
    "2) Une fois qu’on a estimé l’erreur commise ej+1 , on sait que $e^{j+1} = O(\\Delta t^2)$ donc si on veut avoir une erreur de l’ordre de Tolabs , on adapte le pas en $\\Delta t_{j+1} = \\Delta t_j \\sqrt{\\frac{\\texttt{Tol}_{abs}}{\\|e^{j+1}\\|}}$"
   ]
  },
  {
   "cell_type": "code",
   "execution_count": null,
   "metadata": {},
   "outputs": [],
   "source": []
  },
  {
   "cell_type": "code",
   "execution_count": null,
   "metadata": {},
   "outputs": [],
   "source": []
  }
 ],
 "metadata": {
  "kernelspec": {
   "display_name": "Python 3",
   "language": "python",
   "name": "python3"
  },
  "language_info": {
   "codemirror_mode": {
    "name": "ipython",
    "version": 3
   },
   "file_extension": ".py",
   "mimetype": "text/x-python",
   "name": "python",
   "nbconvert_exporter": "python",
   "pygments_lexer": "ipython3",
   "version": "3.7.7"
  }
 },
 "nbformat": 4,
 "nbformat_minor": 2
}
